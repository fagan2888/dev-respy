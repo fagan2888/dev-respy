{
 "cells": [
  {
   "cell_type": "code",
   "execution_count": 1,
   "metadata": {},
   "outputs": [],
   "source": [
    "%load_ext autoreload\n",
    "%autoreload 2\n",
    "\n",
    "import numpy as np\n",
    "import respy as rp\n",
    "\n",
    "params, options = rp.get_example_model(\"kw_94_one\", with_data=False)"
   ]
  },
  {
   "cell_type": "code",
   "execution_count": 2,
   "metadata": {},
   "outputs": [
    {
     "data": {
      "text/plain": [
       "0    1.154231\n",
       "1    0.979806\n",
       "2    1.230656\n",
       "3    1.421402\n",
       "4    0.736126\n",
       "Name: Shock_Reward_A, dtype: float64"
      ]
     },
     "execution_count": 2,
     "metadata": {},
     "output_type": "execute_result"
    }
   ],
   "source": [
    "options[\"simulation_agents\"] = 1\n",
    "\n",
    "simulate = rp.get_simulate_func(params, options)\n",
    "df = simulate(params)\n",
    "\n",
    "df[\"Shock_Reward_A\"].head()"
   ]
  },
  {
   "cell_type": "markdown",
   "metadata": {},
   "source": [
    "This simulation creates an individual that only works in occupation A (or stays at home)."
   ]
  },
  {
   "cell_type": "code",
   "execution_count": 3,
   "metadata": {},
   "outputs": [
    {
     "data": {
      "text/plain": [
       "count    40.000000\n",
       "mean     -0.023023\n",
       "std       0.196274\n",
       "min      -0.385594\n",
       "25%      -0.157706\n",
       "50%      -0.014671\n",
       "75%       0.101919\n",
       "max       0.351644\n",
       "Name: Shock_Reward_A, dtype: float64"
      ]
     },
     "execution_count": 3,
     "metadata": {},
     "output_type": "execute_result"
    }
   ],
   "source": [
    "np.log(df[\"Shock_Reward_A\"]).describe()"
   ]
  },
  {
   "cell_type": "markdown",
   "metadata": {},
   "source": [
    "The basic statistics of the shock fit the ones from the parmeter specification, i.e. mean zero and standard deviation 0.2."
   ]
  },
  {
   "cell_type": "markdown",
   "metadata": {},
   "source": [
    "Now, based on my understanding, the constructed variable `shock` at https://github.com/OpenSourceEconomics/respy/blob/3c1e06bb24e0cadc396d914e28f1bad8d25a0162/respy/conditional_draws.py#L138 needs to correspond exactly to the one in the data frame column analyzed above. Based on my exploration this is not the case. Not only that, when looking at the whole list of 40 constructed shocks this does not show a close resemblance to the specified shock distribution. This remains true after taking proper care of log / exp transformations."
   ]
  },
  {
   "cell_type": "code",
   "execution_count": 4,
   "metadata": {},
   "outputs": [
    {
     "data": {
      "text/plain": [
       "-433.17556845805075"
      ]
     },
     "execution_count": 4,
     "metadata": {},
     "output_type": "execute_result"
    }
   ],
   "source": [
    "crit_func = rp.get_crit_func(params, options, df)\n",
    "crit_func(params)"
   ]
  },
  {
   "cell_type": "code",
   "execution_count": null,
   "metadata": {},
   "outputs": [],
   "source": []
  }
 ],
 "metadata": {
  "kernelspec": {
   "display_name": "Python 3",
   "language": "python",
   "name": "python3"
  },
  "language_info": {
   "codemirror_mode": {
    "name": "ipython",
    "version": 3
   },
   "file_extension": ".py",
   "mimetype": "text/x-python",
   "name": "python",
   "nbconvert_exporter": "python",
   "pygments_lexer": "ipython3",
   "version": "3.7.3"
  }
 },
 "nbformat": 4,
 "nbformat_minor": 4
}
